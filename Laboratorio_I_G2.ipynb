{
 "cells": [
  {
   "cell_type": "markdown",
   "id": "fb724194-89cf-49d7-bcf6-a127b9387d2e",
   "metadata": {},
   "source": [
    "# Taller de instrumentación \n",
    "## Laboratorio I: Introducción a Taller de Instrumentación\n",
    "## Segundo avance\n",
    "\n",
    "### Estudiantes:\n",
    "Diego Trejos  \n",
    "Cristian Arias  \n",
    "Natalia Navarro  \n",
    "\n",
    "II Semestre 2023"
   ]
  },
  {
   "cell_type": "markdown",
   "id": "52be7a6e-ce08-4e51-b496-97206f063d3f",
   "metadata": {},
   "source": [
    "### Metodología   \n",
    "\n",
    "**Cálculo del SNR**  \n",
    "\n",
    "**1.** Se realiza las grabaciones de los audios de un tono de 1kHz mediante los diferentes micrófonos a prueba (DUT) y la grabación de ruido ambiente. \n",
    "\n",
    "**2.** Se incluyen los audios a Matlab para su análisis. \n",
    "\n",
    "**3.** Se establece una muestra del audio del tono de 1kHz para realizar el análisis. \n",
    "\n",
    "**4.** En el análisis se busca establecer la potencia de audio del tono y del audio del ruido mediante las fórmulas que se muestran a continuación: "
   ]
  },
  {
   "cell_type": "markdown",
   "id": "54cf0aa8-5723-465c-9423-513af0b55b50",
   "metadata": {},
   "source": [
    "![Formulas de potencia y desviación estandar](for_pot.png)"
   ]
  },
  {
   "cell_type": "markdown",
   "id": "1b34da9b-bca7-4e86-ad94-bc5d4e27ef44",
   "metadata": {},
   "source": [
    "**5.** Ya con las potencias es posible poder determinar el valor SNR mediante la formula: "
   ]
  },
  {
   "cell_type": "markdown",
   "id": "f2e9b87f-28ff-448e-a79c-ce14790dbe95",
   "metadata": {},
   "source": [
    "![Formula del SNR en dB](for_snr.png)"
   ]
  },
  {
   "cell_type": "markdown",
   "id": "48660d38-2a70-47c5-be46-4b324e485c02",
   "metadata": {},
   "source": [
    "**6.** Además, se grafica la muestra usada para el cálculo de la potencia y el tono completo de 1kHz, por último, se muestra la gráfica de la grabación del ruido ambiente usado. "
   ]
  },
  {
   "cell_type": "markdown",
   "id": "53b43512-10f7-4a20-b402-0732a27e556e",
   "metadata": {},
   "source": [
    "**Respuesta en frecuencia para el barrido de 50Hz a 50kHz**  \n",
    "\n",
    "**1.** Se realiza las grabaciones de los audios del barrido de 50Hz a 50kHz mediante los diferentes micrófonos a prueba (DUT). \n",
    "\n",
    "**2.** Se incluyen los audios a Matlab para su análisis. \n",
    "\n",
    "**3.** Se establece una muestra del audio del barrido para realizar el análisis. \n",
    "\n",
    "**4.** Con la muestra en el dominio del tiempo se le realiza la transformada rápida se Fourier para obtenerla en el dominio de la frecuencia. \n",
    "\n",
    "**5.** Ya con la transformada de Fourier se grafica para poder visualizar el espectro de amplitud. "
   ]
  },
  {
   "cell_type": "markdown",
   "id": "a7455f1b-7694-4b83-bb9a-80ba55fcf46c",
   "metadata": {},
   "source": [
    "### Resultados\n",
    "\n",
    "**Cálculo del SNR** \n",
    "\n",
    "*Grabación de tono de 1kHz con micrófono de laptop:* "
   ]
  },
  {
   "cell_type": "markdown",
   "id": "f0bee931-4762-40d0-8746-9cd000d53899",
   "metadata": {},
   "source": [
    "![Analisis de audio: Señal de 1kHz con el micrófono de la laptop](1kHz_micLAPTOP.png)"
   ]
  },
  {
   "cell_type": "markdown",
   "id": "997a850c-4798-4cbe-8d04-7e4603dc3d61",
   "metadata": {},
   "source": [
    "Amplitud de la muestra: 1.2131 \n",
    "\n",
    "Potencia del tono: 0.36789 W \n",
    "\n",
    "Desviación estándar: 0.028414  \n",
    "\n",
    "SNR: 11.122 dB "
   ]
  },
  {
   "cell_type": "markdown",
   "id": "083c4bb7-05f3-4f9a-9b65-7ec4cca2e5ec",
   "metadata": {},
   "source": [
    "*Grabación de tono de 1kHz con micrófono de celular:*"
   ]
  },
  {
   "cell_type": "markdown",
   "id": "4f3b2066-9463-4dcb-87ad-91087daeaafb",
   "metadata": {},
   "source": [
    "![Analisis de audio: Señal de audio de 1kHz con microfono de celular](1kHz_micCEL.png)"
   ]
  },
  {
   "cell_type": "markdown",
   "id": "b6adabdf-57b1-4f03-857e-a32ac67e3129",
   "metadata": {},
   "source": [
    "Amplitud de la muestra: 0.43225 \n",
    "\n",
    "Potencia del tono: 0.04671 W \n",
    "\n",
    "Desviación estándar: 0.028414  \n",
    "\n",
    "SNR: 2.1589 dB "
   ]
  },
  {
   "cell_type": "markdown",
   "id": "8945d045-cb41-4170-9d7f-aae41ae9475b",
   "metadata": {},
   "source": [
    "### Comparación y análisis de resultados \n",
    "\n",
    "Teniendo en cuenta que el SNR compara las amplitudes de las señales del audio a analizar y la de ruido, para poder determinar la claridad con la que es posible captar la señal de audio deseada; conforme mayor sea el SNR mayor diferencia hay entre las amplitudes del audio y del ruido. Para el caso del micrófono de la laptop se puede decir que la amplitud de la señal del audio esta 11.12 dB por encima que la amplitud de la señal de ruido y en el caso del micrófono del celular se encuentra 2.16 dB por encima de la señal de ruido, con lo cual es posible determinar primero que el micrófono de la laptop capta más fuerte la señal de audio en comparación con el micrófono del celular y en segundo lugar se puede decir que en ambos casos la relación señal a ruido es deficiente considerando que un buen SNR es cuando es mayor a 60 dB, aunque se deben de considerar algunos aspectos como la distancia entre el parlante y el micrófono y el volumen con el que se reproduce el audio que pueden ser factores que pueden modificar los resultados tanto para bien como para mal. Además, es posible ver también las diferencias en las amplitudes de las grabaciones mediante los gráficos anteriormente mostrados de las grabaciones del tono completo de 1kHz. "
   ]
  },
  {
   "cell_type": "markdown",
   "id": "8d79d0c0-55a3-457d-8fad-afeed253efd6",
   "metadata": {},
   "source": [
    "### Respuesta en frecuencia para el barrido de 50Hz a 50kHz \n",
    "\n",
    "**Grabación del barrido de 50Hz a 50kHz con micrófono de laptop:**"
   ]
  },
  {
   "cell_type": "markdown",
   "id": "55f2e546-22b9-4c89-9184-2ff065c4bb8f",
   "metadata": {},
   "source": [
    "![Analisis de audio: Barrido con microfono de laptop](barrido_laptop.png)"
   ]
  },
  {
   "cell_type": "markdown",
   "id": "34d2ff50-3561-4cfa-be3c-0f4482ddda45",
   "metadata": {},
   "source": [
    "**Grabación del barrido de 50Hz a 50kHz con micrófono de celular:**"
   ]
  },
  {
   "cell_type": "markdown",
   "id": "361a8583-6c67-4059-878a-ff1349438c8f",
   "metadata": {},
   "source": [
    "![Analisis de audio: Barrido con microfono de celular](barrido_celular.png)"
   ]
  },
  {
   "cell_type": "markdown",
   "id": "40f541bb-ac86-42af-9170-2be212335b1f",
   "metadata": {},
   "source": [
    "### Análisis de resultados "
   ]
  },
  {
   "cell_type": "code",
   "execution_count": null,
   "id": "01b77da3-694c-42e6-8265-32f8e1e4f4f9",
   "metadata": {},
   "outputs": [],
   "source": []
  },
  {
   "cell_type": "code",
   "execution_count": null,
   "id": "b5e59340-14e9-49ce-b707-d1ea81628881",
   "metadata": {},
   "outputs": [],
   "source": [
    "![Logo de Jupyter](logo.png)"
   ]
  }
 ],
 "metadata": {
  "kernelspec": {
   "display_name": "Python 3 (ipykernel)",
   "language": "python",
   "name": "python3"
  },
  "language_info": {
   "codemirror_mode": {
    "name": "ipython",
    "version": 3
   },
   "file_extension": ".py",
   "mimetype": "text/x-python",
   "name": "python",
   "nbconvert_exporter": "python",
   "pygments_lexer": "ipython3",
   "version": "3.9.5"
  }
 },
 "nbformat": 4,
 "nbformat_minor": 5
}
